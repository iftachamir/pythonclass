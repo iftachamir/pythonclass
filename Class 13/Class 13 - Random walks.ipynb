{
 "cells": [
  {
   "cell_type": "markdown",
   "metadata": {},
   "source": [
    "## Class 13\n",
    "# Random walks in (base) Python\n",
    "\n",
    "<img src = https://upload.wikimedia.org/wikipedia/commons/2/28/Eight-step_random_walks.png width = 250>\n",
    "\n",
    "\"In mathematics, a random walk is a mathematical object, known as a stochastic or random process, that describes a path that consists of a succession of random steps on some mathematical space such as the integers.\"\\\n",
    "[English](https://en.wikipedia.org/wiki/Random_walk) | [Hebrew](https://he.wikipedia.org/wiki/%D7%94%D7%99%D7%9C%D7%95%D7%9A_%D7%9E%D7%A7%D7%A8%D7%99)\n",
    "\n",
    "In this notebook, we will practice coding in Python through a random-walk example. This example is based on the on this [YouTube](https://www.youtube.com/watch?v=BfS2H1y6tzQ) video."
   ]
  },
  {
   "cell_type": "markdown",
   "metadata": {},
   "source": [
    "**Scenario:**\\\n",
    "You've gone out drinking with a friend in Manhattan, where the street blocks are perfectly arranged in a 2-dimensional [grid](https://i.pinimg.com/originals/71/09/02/710902249fd0da6bd68affe49340fb4b.jpg).\n",
    "You've drank too much and have gone out to get some air. You start walking the neighbourhood, but because you're drank, at each intersection you end up randomly turning left, right, straight or back.\n",
    "\n",
    "After a number of intersections you decide to turn back to your friend. If you're more than 4 blocks from your friend, you must take a cab back. What is the longest number of intersections, *on average*, you can walk with-out having to take a taxi back (i.e., 4 blocks or fewer)."
   ]
  },
  {
   "cell_type": "code",
   "execution_count": null,
   "metadata": {},
   "outputs": [],
   "source": [
    "import random"
   ]
  },
  {
   "cell_type": "code",
   "execution_count": null,
   "metadata": {},
   "outputs": [],
   "source": []
  },
  {
   "cell_type": "code",
   "execution_count": null,
   "metadata": {},
   "outputs": [],
   "source": [
    "# Run 25 simulations\n"
   ]
  },
  {
   "cell_type": "code",
   "execution_count": null,
   "metadata": {},
   "outputs": [],
   "source": []
  },
  {
   "cell_type": "code",
   "execution_count": null,
   "metadata": {},
   "outputs": [],
   "source": []
  },
  {
   "cell_type": "code",
   "execution_count": null,
   "metadata": {},
   "outputs": [],
   "source": []
  },
  {
   "cell_type": "code",
   "execution_count": null,
   "metadata": {},
   "outputs": [],
   "source": []
  }
 ],
 "metadata": {
  "kernelspec": {
   "display_name": "Python 3",
   "language": "python",
   "name": "python3"
  },
  "language_info": {
   "codemirror_mode": {
    "name": "ipython",
    "version": 3
   },
   "file_extension": ".py",
   "mimetype": "text/x-python",
   "name": "python",
   "nbconvert_exporter": "python",
   "pygments_lexer": "ipython3",
   "version": "3.7.7"
  }
 },
 "nbformat": 4,
 "nbformat_minor": 4
}
