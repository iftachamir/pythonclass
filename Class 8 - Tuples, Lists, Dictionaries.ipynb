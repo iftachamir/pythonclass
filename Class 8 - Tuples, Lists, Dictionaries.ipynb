{
 "cells": [
  {
   "cell_type": "markdown",
   "metadata": {},
   "source": [
    "# Class 7 - Data structures: Tuples, Lists, Dictionaries"
   ]
  },
  {
   "cell_type": "markdown",
   "metadata": {},
   "source": [
    "## Tuples\n",
    "A Tuple represents a collection of objects that are ordered and immutable\n",
    "(cannot be modified). Tuples allow duplicate members and are indexed."
   ]
  },
  {
   "cell_type": "code",
   "execution_count": null,
   "metadata": {},
   "outputs": [],
   "source": [
    "# Example of previous uses\n",
    "def my_function(x):\n",
    "    return(x+1, x+2, x+3)\n",
    "\n",
    "returned_value = my_function(5)\n",
    "returned_value"
   ]
  },
  {
   "cell_type": "code",
   "execution_count": null,
   "metadata": {},
   "outputs": [],
   "source": [
    "tpl = (1, 5, 10)\n",
    "print(tpl)\n",
    "print('Lenght of this tuple is: ' + str(len(tpl)))\n",
    "print(type(tpl))"
   ]
  },
  {
   "cell_type": "code",
   "execution_count": null,
   "metadata": {},
   "outputs": [],
   "source": [
    "tpl = (1, 'two', 3.0)\n",
    "tpl"
   ]
  },
  {
   "cell_type": "markdown",
   "metadata": {},
   "source": [
    "### Accessing a specific place or slice of tuple"
   ]
  },
  {
   "cell_type": "code",
   "execution_count": null,
   "metadata": {},
   "outputs": [],
   "source": [
    "print(tpl[0])\n",
    "print(tpl[1])"
   ]
  },
  {
   "cell_type": "code",
   "execution_count": null,
   "metadata": {},
   "outputs": [],
   "source": [
    "print(type(tpl[0]))\n",
    "print(type(tpl[1]))"
   ]
  },
  {
   "cell_type": "markdown",
   "metadata": {},
   "source": [
    "###  Tuples in tuples (containers in containers)"
   ]
  },
  {
   "cell_type": "code",
   "execution_count": null,
   "metadata": {},
   "outputs": [],
   "source": [
    "sub_tpl = (3, 3.0, 'three')\n",
    "tpl = (1, 'two', sub_tpl)\n",
    "tpl"
   ]
  },
  {
   "cell_type": "code",
   "execution_count": null,
   "metadata": {},
   "outputs": [],
   "source": [
    "tpl[0]"
   ]
  },
  {
   "cell_type": "code",
   "execution_count": null,
   "metadata": {},
   "outputs": [],
   "source": [
    "print(tpl[2])\n",
    "type(tpl[2])"
   ]
  },
  {
   "cell_type": "code",
   "execution_count": null,
   "metadata": {},
   "outputs": [],
   "source": [
    "# What will be the exact output of the next command?\n",
    "tpl[2][2]"
   ]
  },
  {
   "cell_type": "markdown",
   "metadata": {},
   "source": [
    "### Remember, tuples are **immutable**"
   ]
  },
  {
   "cell_type": "code",
   "execution_count": null,
   "metadata": {},
   "outputs": [],
   "source": [
    "tpl[1] = 2"
   ]
  },
  {
   "cell_type": "markdown",
   "metadata": {},
   "source": [
    "## Lists\n",
    "`list` is very similar to `tuple`. The main difference is that list is **mutable**."
   ]
  },
  {
   "cell_type": "code",
   "execution_count": null,
   "metadata": {},
   "outputs": [],
   "source": [
    "mylist = [1, 'two', 3.0]\n",
    "print(mylist)\n",
    "\n",
    "# change the value at index 0\n",
    "mylist[0] = 'one'\n",
    "print(mylist)"
   ]
  },
  {
   "cell_type": "markdown",
   "metadata": {},
   "source": [
    "### Additional ways to create a list"
   ]
  },
  {
   "cell_type": "code",
   "execution_count": null,
   "metadata": {},
   "outputs": [],
   "source": [
    "x = list('iftach')\n",
    "print(x)\n",
    "\n",
    "mystring = 'iftach amir iftach'\n",
    "x = mystring.split(' ')\n",
    "print(x)"
   ]
  },
  {
   "cell_type": "markdown",
   "metadata": {},
   "source": [
    "### Modifiying lists\n",
    "- changing at an index\n",
    "- changing a slice\n",
    "- **appending**"
   ]
  },
  {
   "cell_type": "code",
   "execution_count": 40,
   "metadata": {},
   "outputs": [
    {
     "data": {
      "text/plain": [
       "['amir', 'amir', 1, 2, 3]"
      ]
     },
     "execution_count": 40,
     "metadata": {},
     "output_type": "execute_result"
    }
   ],
   "source": [
    "mylist = ['iftach', 'amir', 1, 2, 3]\n",
    "mylist[0] = 'amir'\n",
    "mylist"
   ]
  },
  {
   "cell_type": "code",
   "execution_count": null,
   "metadata": {},
   "outputs": [],
   "source": [
    "print(mylist)\n",
    "mylist[2:5] = [4, 5, 6]\n",
    "mylist"
   ]
  },
  {
   "cell_type": "code",
   "execution_count": null,
   "metadata": {},
   "outputs": [],
   "source": [
    "mylist.append(1000)\n",
    "mylist"
   ]
  },
  {
   "cell_type": "markdown",
   "metadata": {},
   "source": [
    "#### Appending and Extending\n",
    "Append and Extend are *methods* of `list`.\n",
    "\n",
    "`append` adds the inputted value at the end of the list"
   ]
  },
  {
   "cell_type": "code",
   "execution_count": null,
   "metadata": {},
   "outputs": [],
   "source": [
    "mylist.append([1,2,3])\n",
    "mylist"
   ]
  },
  {
   "cell_type": "markdown",
   "metadata": {},
   "source": [
    "`extend` takes an inputted list (or any other iterable object), 'breaks' the list apart, and adds at the end of the list"
   ]
  },
  {
   "cell_type": "code",
   "execution_count": null,
   "metadata": {},
   "outputs": [],
   "source": [
    "mylist.extend([5,5,5])\n",
    "mylist"
   ]
  },
  {
   "cell_type": "markdown",
   "metadata": {},
   "source": [
    "### Additional methods\n",
    "http://python-ds.com/python-3-list-methods"
   ]
  },
  {
   "cell_type": "markdown",
   "metadata": {},
   "source": [
    "### Lists and For loops\n",
    "Lists (and also Tuple) are easy to combine with a `for` loop. For example:"
   ]
  },
  {
   "cell_type": "code",
   "execution_count": 41,
   "metadata": {},
   "outputs": [
    {
     "name": "stdout",
     "output_type": "stream",
     "text": [
      "amir\n",
      "amir\n",
      "1\n",
      "2\n",
      "3\n"
     ]
    }
   ],
   "source": [
    "for each_item in mylist:\n",
    "    print(each_item)"
   ]
  },
  {
   "cell_type": "markdown",
   "metadata": {},
   "source": [
    "Remember, to modify an item in a list, you need to explicitly give python an index location and the value to assign to that location."
   ]
  },
  {
   "cell_type": "code",
   "execution_count": 43,
   "metadata": {},
   "outputs": [
    {
     "name": "stdout",
     "output_type": "stream",
     "text": [
      "amiramir\n",
      "amiramir\n",
      "2\n",
      "4\n",
      "6\n",
      "['amir', 'amir', 1, 2, 3]\n"
     ]
    }
   ],
   "source": [
    "for each_item in mylist:\n",
    "    each_item = each_item*2\n",
    "    print(each_item)\n",
    "print(mylist)"
   ]
  },
  {
   "cell_type": "markdown",
   "metadata": {},
   "source": [
    "There is a special way to write a `for` loop to also get an automatically updating index."
   ]
  },
  {
   "cell_type": "code",
   "execution_count": 45,
   "metadata": {},
   "outputs": [
    {
     "name": "stdout",
     "output_type": "stream",
     "text": [
      "amiramir\n",
      "amiramir\n",
      "2\n",
      "4\n",
      "6\n",
      "['amiramir', 'amiramir', 2, 4, 6]\n"
     ]
    }
   ],
   "source": [
    "for index, each_item in enumerate(mylist):\n",
    "    \n",
    "    # Multiply each item by 2\n",
    "    each_item = each_item*2\n",
    "    print(each_item)\n",
    "    \n",
    "    # Save the change in the original list\n",
    "    mylist[index] = each_item\n",
    "\n",
    "print(mylist)"
   ]
  },
  {
   "cell_type": "markdown",
   "metadata": {},
   "source": [
    "#### What's going on 'under the hood'?"
   ]
  },
  {
   "cell_type": "code",
   "execution_count": 47,
   "metadata": {},
   "outputs": [
    {
     "name": "stdout",
     "output_type": "stream",
     "text": [
      "[(0, 'amiramir'), (1, 'amiramir'), (2, 2), (3, 4), (4, 6)]\n"
     ]
    }
   ],
   "source": [
    "print(list(enumerate(mylist)))"
   ]
  },
  {
   "cell_type": "markdown",
   "metadata": {},
   "source": [
    "## Sets\n",
    "\n",
    "`set` is an unordered container which is immutable and **does not allow duplicates**."
   ]
  },
  {
   "cell_type": "code",
   "execution_count": 3,
   "metadata": {},
   "outputs": [
    {
     "name": "stdout",
     "output_type": "stream",
     "text": [
      "<class 'set'>\n"
     ]
    },
    {
     "data": {
      "text/plain": [
       "{'August', 'July', 'June', 'November', 'October', 'September'}"
      ]
     },
     "execution_count": 3,
     "metadata": {},
     "output_type": "execute_result"
    }
   ],
   "source": [
    "months = {'June', 'July', 'August', 'September', 'October', 'November'}\n",
    "print(type(months))\n",
    "months"
   ]
  },
  {
   "cell_type": "code",
   "execution_count": 8,
   "metadata": {},
   "outputs": [
    {
     "name": "stdout",
     "output_type": "stream",
     "text": [
      "<class 'list'>\n"
     ]
    }
   ],
   "source": [
    "months_list = ['June', 'July', 'August', 'September', 'October', 'November']\n",
    "print(type(months_list))"
   ]
  },
  {
   "cell_type": "markdown",
   "metadata": {},
   "source": [
    "The key characteristic of set is no duplicates"
   ]
  },
  {
   "cell_type": "code",
   "execution_count": 12,
   "metadata": {
    "jupyter": {
     "source_hidden": true
    }
   },
   "outputs": [
    {
     "name": "stdout",
     "output_type": "stream",
     "text": [
      "['June', 'July', 'August', 'September', 'October', 'November', 'December', 'October', 'December']\n",
      "['June', 'July', 'August', 'September', 'October', 'November', 'December', 'October', 'December', 'October']\n"
     ]
    }
   ],
   "source": [
    "### LIST\n",
    "# Add a new month\n",
    "months_list.append('December')\n",
    "print(months_list)\n",
    "\n",
    "# Add a month already included\n",
    "months_list.append('October')\n",
    "print(months_list)"
   ]
  },
  {
   "cell_type": "code",
   "execution_count": 9,
   "metadata": {},
   "outputs": [
    {
     "name": "stdout",
     "output_type": "stream",
     "text": [
      "{'October', 'July', 'November', 'June', 'September', 'August', 'December'}\n",
      "{'October', 'July', 'November', 'June', 'September', 'August', 'December'}\n"
     ]
    }
   ],
   "source": [
    "### SET\n",
    "# Add a new month\n",
    "months.add('December')\n",
    "print(months)\n",
    "\n",
    "# Add a month already included\n",
    "months.add('October')\n",
    "print(months)"
   ]
  },
  {
   "cell_type": "code",
   "execution_count": 13,
   "metadata": {},
   "outputs": [
    {
     "name": "stdout",
     "output_type": "stream",
     "text": [
      "['a', 'b', 'c', 'd', 'a', 'a']\n",
      "{'d', 'c', 'a', 'b'}\n"
     ]
    }
   ],
   "source": [
    "# 2nd example\n",
    "mylist = ['a', 'b', 'c', 'd', 'a', 'a']\n",
    "myset = set(mylist)\n",
    "print(mylist)\n",
    "print(myset)"
   ]
  },
  {
   "cell_type": "markdown",
   "metadata": {},
   "source": [
    "`in` a set"
   ]
  },
  {
   "cell_type": "code",
   "execution_count": 15,
   "metadata": {},
   "outputs": [
    {
     "name": "stdout",
     "output_type": "stream",
     "text": [
      "False\n",
      "True\n"
     ]
    }
   ],
   "source": [
    "print('november' in months)\n",
    "print('November' in months)"
   ]
  },
  {
   "cell_type": "markdown",
   "metadata": {},
   "source": [
    "### Set unions. interactions and differences"
   ]
  },
  {
   "cell_type": "code",
   "execution_count": 23,
   "metadata": {},
   "outputs": [
    {
     "name": "stdout",
     "output_type": "stream",
     "text": [
      "{'January', 'March', 'July', 'February', 'June', 'May', 'April'}\n",
      "{'October', 'July', 'November', 'June', 'September', 'August', 'December'}\n"
     ]
    }
   ],
   "source": [
    "months_2 = {'January', 'February', 'March', 'April', 'May', 'June', 'July'}\n",
    "print(months_2)\n",
    "print(months)"
   ]
  },
  {
   "cell_type": "code",
   "execution_count": 25,
   "metadata": {},
   "outputs": [
    {
     "name": "stdout",
     "output_type": "stream",
     "text": [
      "{'October', 'January', 'May', 'March', 'November', 'July', 'February', 'June', 'September', 'August', 'December', 'April'}\n",
      "{'June', 'July'}\n",
      "{'October', 'November', 'September', 'August', 'December'}\n"
     ]
    },
    {
     "data": {
      "text/plain": [
       "{'August', 'December', 'July', 'June', 'November', 'October', 'September'}"
      ]
     },
     "execution_count": 25,
     "metadata": {},
     "output_type": "execute_result"
    }
   ],
   "source": [
    "print(months.union(months_2))\n",
    "print(months.intersection(months_2))\n",
    "print(months.difference(months_2))\n",
    "months"
   ]
  },
  {
   "cell_type": "markdown",
   "metadata": {},
   "source": [
    "More on sets:\n",
    "https://youtu.be/sBvaPopWOmQ"
   ]
  },
  {
   "cell_type": "markdown",
   "metadata": {},
   "source": [
    "## Dictionaries\n",
    "Dictionary is a container of associations between keys and values."
   ]
  },
  {
   "cell_type": "code",
   "execution_count": 37,
   "metadata": {},
   "outputs": [
    {
     "name": "stdout",
     "output_type": "stream",
     "text": [
      "<class 'dict'>\n",
      "Introduction to Python\n",
      "['Iftach', 'Amir']\n"
     ]
    }
   ],
   "source": [
    "our_course = {'Name' : 'Introduction to Python', 'Year' : 2020, 'Instructor' : ['Iftach', 'Amir']}\n",
    "print(type(our_course))\n",
    "print(our_course[\"Name\"])\n",
    "print(our_course[\"Instructor\"])"
   ]
  },
  {
   "cell_type": "markdown",
   "metadata": {},
   "source": [
    "### Adding to- and changing a- dictionary"
   ]
  },
  {
   "cell_type": "code",
   "execution_count": 38,
   "metadata": {},
   "outputs": [
    {
     "name": "stdout",
     "output_type": "stream",
     "text": [
      "{'Name': 'Introduction to Python', 'Year': 2020, 'Instructor': ['Iftach', 'Amir'], 'University': 'Haifa'}\n"
     ]
    }
   ],
   "source": [
    "our_course[\"University\"] = \"Haifa\"\n",
    "print(our_course)"
   ]
  },
  {
   "cell_type": "code",
   "execution_count": 39,
   "metadata": {},
   "outputs": [
    {
     "name": "stdout",
     "output_type": "stream",
     "text": [
      "{'Name': 'Intro to Python for Social Sciences', 'Year': 2020, 'Instructor': ['Iftach', 'Amir'], 'University': 'Haifa'}\n"
     ]
    }
   ],
   "source": [
    "our_course[\"Name\"] = \"Intro to Python for Social Sciences\"\n",
    "print(our_course)"
   ]
  },
  {
   "cell_type": "markdown",
   "metadata": {},
   "source": [
    "### Iterating over a dictionary"
   ]
  },
  {
   "cell_type": "code",
   "execution_count": 49,
   "metadata": {},
   "outputs": [
    {
     "name": "stdout",
     "output_type": "stream",
     "text": [
      "Name\n",
      "Year\n",
      "Instructor\n",
      "University\n"
     ]
    }
   ],
   "source": [
    "for each_key in our_course:\n",
    "    print(each_key)"
   ]
  },
  {
   "cell_type": "code",
   "execution_count": 55,
   "metadata": {},
   "outputs": [
    {
     "name": "stdout",
     "output_type": "stream",
     "text": [
      "The key is Name, its value is Intro to Python for Social Sciences and its value type is <class 'str'>\n",
      "The key is Year, its value is 2020 and its value type is <class 'int'>\n",
      "The key is Instructor, its value is ['Iftach', 'Amir'] and its value type is <class 'list'>\n",
      "The key is University, its value is Haifa and its value type is <class 'str'>\n"
     ]
    }
   ],
   "source": [
    "for each_key in our_course:\n",
    "    value = our_course[each_key]\n",
    "    print(\"The key is \" + each_key + \", its value is \" + str(value) + \" and its value type is \" + str(type(value)))"
   ]
  },
  {
   "cell_type": "code",
   "execution_count": 56,
   "metadata": {},
   "outputs": [
    {
     "name": "stdout",
     "output_type": "stream",
     "text": [
      "dict_keys(['Name', 'Year', 'Instructor', 'University'])\n",
      "dict_values(['Intro to Python for Social Sciences', 2020, ['Iftach', 'Amir'], 'Haifa'])\n"
     ]
    }
   ],
   "source": [
    "print(our_course.keys())\n",
    "print(our_course.values())"
   ]
  },
  {
   "cell_type": "markdown",
   "metadata": {},
   "source": [
    "### Exercise\n",
    "Write a main program that uses your function to simulate rolling two six-sided\n",
    "dice 1,000 times. As your program runs, it should count the number of times that each\n",
    "total occurs. Then it should display a table that summarizes this data. Express the\n",
    "frequency for each total as a percentage of the total number of rolls."
   ]
  },
  {
   "cell_type": "code",
   "execution_count": null,
   "metadata": {},
   "outputs": [],
   "source": []
  },
  {
   "cell_type": "code",
   "execution_count": 60,
   "metadata": {},
   "outputs": [
    {
     "name": "stdout",
     "output_type": "stream",
     "text": [
      "2\n",
      "4\n",
      "2\n",
      "1\n",
      "3\n",
      "2\n",
      "5\n",
      "1\n",
      "6\n",
      "3\n",
      "5\n",
      "6\n",
      "6\n",
      "3\n",
      "3\n",
      "7\n",
      "2\n",
      "5\n",
      "3\n",
      "7\n"
     ]
    }
   ],
   "source": [
    "import random\n",
    "for i in range(20):\n",
    "    print(random.randint(1,6))"
   ]
  }
 ],
 "metadata": {
  "kernelspec": {
   "display_name": "Python 3",
   "language": "python",
   "name": "python3"
  },
  "language_info": {
   "codemirror_mode": {
    "name": "ipython",
    "version": 3
   },
   "file_extension": ".py",
   "mimetype": "text/x-python",
   "name": "python",
   "nbconvert_exporter": "python",
   "pygments_lexer": "ipython3",
   "version": "3.7.7"
  }
 },
 "nbformat": 4,
 "nbformat_minor": 4
}
