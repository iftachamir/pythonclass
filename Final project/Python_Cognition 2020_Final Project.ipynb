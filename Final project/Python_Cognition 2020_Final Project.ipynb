{
 "cells": [
  {
   "cell_type": "markdown",
   "metadata": {},
   "source": [
    "# Final Project\n",
    "## Introduction to Python\n",
    "### Semester B 2020"
   ]
  },
  {
   "cell_type": "markdown",
   "metadata": {},
   "source": [
    "## Part 1 - **Green eggs and ham**\n",
    "\"Green Eggs and Ham\" is a popular children's book by Dr. Seuss. In this part, you will analyse this text, examining things such as how many words and the frequencies of each word.\n",
    "\n",
    "Before start, take a look at the file `green_eggs_and_ham.txt` in the `data` folder. Then, run the following code cell to load the text into memory."
   ]
  },
  {
   "cell_type": "code",
   "execution_count": 4,
   "metadata": {},
   "outputs": [
    {
     "name": "stdout",
     "output_type": "stream",
     "text": [
      "I am Sam Sam I am That Sam I am That Sam I am! I do not like That Sam I am Do you like Green eggs and ham I do not like them, Sam I am. I do not like Green eggs and ham. Would you like them Here or there? I would not like them Here or there. I would not like them Anywhere. I do not like Green eggs and ham. I do not like them, Sam I am Would you like them In a house? Would you like them With a mouse? I do not like them In a house. I do not like them With a mouse. I do not like them Here or there. I do not like them Anywhere. I do not like green eggs and ham. I do not like them, Sam I am. Would you eat them In a box? Would you eat them With a fox? Not in a box. Not with a fox. Not in a house. Not with a mouse. I would not eat them here or there. I would not eat them anywhere. I would not eat green eggs and ham. I do not like them, Sam I am. Would you? Could you? In a car? Eat them! Eat them! Here they are. I would not, Could not, In a car You may like them. You will see. You may like them In a tree? I would not, could not in a tree. Not in a car! You let me be. I do not like them in a box. I do not like them with a fox I do not like them in a house I do not like them with a mouse I do not like them here or there. I do not like them anywhere. I do not like green eggs and ham. I do not like them, Sam I am. A train! A train! A train! A train! Could you, would you On a train? Not on a train! Not in a tree! Not in a car! Sam! Let me be! I would not, could not, in a box. I could not, would not, with a fox. I will not eat them with a mouse I will not eat them in a house. I will not eat them here or there. I will not eat them anywhere. I do not like them, Sam I am. Say! In the dark? Here in the dark! Would you, could you, in the dark? I would not, could not, In the dark. Would you, could you, In the rain? I would not, could not, in the rain. Not in the dark. Not on a train, Not in a car, Not in a tree. I do not like them, Sam, you see. Not in a house. Not in a box. Not with a mouse. Not with a fox. I will not eat them here or there. I do not like them anywhere! You do not like Green eggs and ham? I do not Like them, Sam I am. Could you, would you, With a goat? I would not, Could not. With a goat! Would you, could you, On a boat? I could not, would not, on a boat. I will not, will not, with a goat. I will not eat them in the rain. I will not eat them on a train. Not in the dark! Not in a tree! Not in a car! You let me be! I do not like them in a box. I do not like them with a fox. I will not eat them in a house. I do not like them with a mouse. I do not like them here or there. I do not like them anywhere! I do not like Green eggs And ham! I do not like them, Sam I am. You do not like them. So you say. Try them! Try them! And you may. Try them and you may I say. Sam! If you will let me be, I will try them. You will see. Say! I like green eggs and ham! I do! I like them, Sam I am! And I would eat them in a boat! And I would eat them with a goat. And I will eat them in the rain. And in the dark. And on a train. And in a car. And in a tree. They are so good so good you see! So I will eat them in a box. And I will eat them with a fox. And I will eat them in a house. And I will eat them with a mouse. And I will eat them here and there. Say! I will eat them anywhere! I do so like Green eggs and ham! Thank you! Thank you, Sam I am\n"
     ]
    }
   ],
   "source": [
    "## Load Green eggs and Ham into memory\n",
    "file = open('./data/green_eggs_and_ham.txt', 'r')\n",
    "dr_seuss = file.read()\n",
    "\n",
    "# Replace double new row with single new row, also replaces new row or hyphen with space\n",
    "dr_seuss = dr_seuss.replace('\\n\\n','\\n').replace('\\n',' ').replace('-',' ')\n",
    "\n",
    "print(dr_seuss)"
   ]
  },
  {
   "cell_type": "markdown",
   "metadata": {},
   "source": [
    "### 1. How many words are there in the book?\n",
    "Write code to find out how long is the book in terms of number of words. I.e., how many words are there in the book (including repetition of the same word)."
   ]
  },
  {
   "cell_type": "code",
   "execution_count": null,
   "metadata": {},
   "outputs": [],
   "source": []
  },
  {
   "cell_type": "markdown",
   "metadata": {},
   "source": [
    "### 2. How many times does each word appear?\n",
    "Count and report how many times each word appears in the book. For example, the word \"fox\" appears 7 times.\n",
    "- For this part, **ignore** capitalization - for example, consider the word '*F*ox' and '*f*ox' as the same.\n",
    "- Also, ignore punctuation and all symbols (\"! - . ,\" etc.). This means that. for example, `Sam-I-Am = Sam I am`"
   ]
  },
  {
   "cell_type": "code",
   "execution_count": null,
   "metadata": {},
   "outputs": [],
   "source": []
  },
  {
   "cell_type": "markdown",
   "metadata": {},
   "source": [
    "### 3. Print and count how many different words there are in the book?"
   ]
  },
  {
   "cell_type": "code",
   "execution_count": null,
   "metadata": {},
   "outputs": [],
   "source": []
  },
  {
   "cell_type": "markdown",
   "metadata": {},
   "source": [
    "## Part 2 - U.S. Elections\n",
    "The US elections are coming up. However, the US goverment is too busy with the COVID-19 outbreak and has decided that the elections (for presidency) will be decided based on 1000 coin tosses."
   ]
  },
  {
   "cell_type": "markdown",
   "metadata": {},
   "source": [
    "### 1. 1000 Coin flips.\n",
    "The US goverment have asked you to write a Python code that simulates *N* (N > 0) coin tosses, where each flip can result in either 'Biden' or 'Trump'. \n",
    "\n",
    "Write a function called `random_elections()` that simulates N coin flips and reports the winning candidate, as well as percentage of wins for that candidate. This function needs to use a `for` loop.\n",
    "\n",
    "For example, the result of `random_elections(1000)` might return `('Trump', 59.5)`. In case of a tie, the function returns `('TIE', 50)`."
   ]
  },
  {
   "cell_type": "code",
   "execution_count": 7,
   "metadata": {},
   "outputs": [
    {
     "data": {
      "text/plain": [
       "'Avoda'"
      ]
     },
     "execution_count": 7,
     "metadata": {},
     "output_type": "execute_result"
    }
   ],
   "source": [
    "# You can use Python's built-in random function, for e.g.:\n",
    "import random\n",
    "r = random.choice(['Likud', 'Avoda'])\n",
    "r"
   ]
  },
  {
   "cell_type": "code",
   "execution_count": null,
   "metadata": {},
   "outputs": [],
   "source": []
  },
  {
   "cell_type": "markdown",
   "metadata": {},
   "source": [
    "### 2. Rigged elections (part 1)\n",
    "The Democratic party has also approached you and asked you to 'rig' the simulation so Biden has 3:1 odds in each coin flip (i.e., for each coin flip there is 75% of Biden being the outcome, and 25% for Trump).\n",
    "\n",
    "Write a new function called `rigged_simulation_Biden()` that rigs each coin flip in a 3:1 ratio in favor of Biden."
   ]
  },
  {
   "cell_type": "code",
   "execution_count": null,
   "metadata": {},
   "outputs": [],
   "source": []
  },
  {
   "cell_type": "markdown",
   "metadata": {},
   "source": [
    "### 3. Rigged elections (part 2)\n",
    "The Republican party has also approached you. They ask you rig results so only Trump can win. Specifically, they ask that, if the winner of N simulations is NOT Trump, the simulation (i.e., simulated coin flips) will continue until Trump has >50% wins.\n",
    "\n",
    "Write a new function called `rigged_simulation_Trump()` that runs a simulation as described above. This function should also return a third value - the total number of coin flips. For example, `rigged_simulation_Trump(100)` might return `('Trump', 50.1, 126)`."
   ]
  },
  {
   "cell_type": "code",
   "execution_count": null,
   "metadata": {},
   "outputs": [],
   "source": []
  },
  {
   "cell_type": "markdown",
   "metadata": {},
   "source": []
  },
  {
   "cell_type": "markdown",
   "metadata": {},
   "source": [
    "## Part 3 - Hat game\n",
    "In this part, you will write a function called `hat_game_100` that simulates the outcome of the hat game.\n",
    "\n",
    "In the hat game:\n",
    "- 100 persons are sitted in a circle. Each person brings with him a hat and places it on their lap. Each person has a number, from #1 to #100.\n",
    "- You, the player, go around the circle 100 times, every time starting at Person #1 and finishing at Person #100.\n",
    "- The **1st** time around you stop at **every person** (e.g., Person 1, person 2, person 3 ... person 100). The **2nd** time around you stop at every **second** person (Person 2, Person 4, person 6 ... person 100). The **3rd** time around you stop at every **third** person (Person 3, person 6 ... person 99) and so on 100 times around.\n",
    "- Each person you stop at, you either place the hat on their head, or remove back to their lap. So:\n",
    "    - if they *dont* have a hat on, you put a hat on their head.\n",
    "    - If they *do* have a hat on, you take it off.\n",
    "\n",
    "The function returns a single `list` variable. The variable contains a list of person's numbers with **hats on** after you finished going around 100 times. E.g., the output might look like:\n",
    "\n",
    "[2, 5, 78, 90] **(This is just an example of what the return might look like, the numbers are INCORRECT)**"
   ]
  },
  {
   "cell_type": "code",
   "execution_count": null,
   "metadata": {},
   "outputs": [],
   "source": []
  },
  {
   "cell_type": "markdown",
   "metadata": {},
   "source": [
    "## Part 4 - World happiness"
   ]
  },
  {
   "cell_type": "markdown",
   "metadata": {},
   "source": [
    "Use `pandas` to answer the following questions regarding the World Happiness data (the one we used in class; in Data folder under 'world_happiness.csv')"
   ]
  },
  {
   "cell_type": "markdown",
   "metadata": {},
   "source": [
    "### 1. World regions and happiness\n",
    "Using a bar plot, compare the average happiness ratings of the different regions of the world in 2017. Also show standard deviation as error caps on the plot bars."
   ]
  },
  {
   "cell_type": "code",
   "execution_count": null,
   "metadata": {},
   "outputs": [],
   "source": []
  },
  {
   "cell_type": "markdown",
   "metadata": {},
   "source": [
    "### 2. Relations between variables in the dataset\n",
    "Examine which two variables in the data set have the highest correlation, and which two have the lowest?\\\n",
    "(Make sure to average (i.e., aggregate) country ratings across years before examining correlations)."
   ]
  },
  {
   "cell_type": "code",
   "execution_count": null,
   "metadata": {},
   "outputs": [],
   "source": []
  },
  {
   "cell_type": "markdown",
   "metadata": {},
   "source": [
    "### 3. Comparing country GDP over 5 years\n",
    "Plot Israel's GDP per Capita over the last 5 years (i.e., a line plot). In the same figure, also draw lines for Norway, "
   ]
  },
  {
   "cell_type": "code",
   "execution_count": null,
   "metadata": {},
   "outputs": [],
   "source": []
  }
 ],
 "metadata": {
  "kernelspec": {
   "display_name": "Python 3",
   "language": "python",
   "name": "python3"
  },
  "language_info": {
   "codemirror_mode": {
    "name": "ipython",
    "version": 3
   },
   "file_extension": ".py",
   "mimetype": "text/x-python",
   "name": "python",
   "nbconvert_exporter": "python",
   "pygments_lexer": "ipython3",
   "version": "3.7.7"
  }
 },
 "nbformat": 4,
 "nbformat_minor": 4
}
